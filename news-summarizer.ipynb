{
 "cells": [
  {
   "cell_type": "markdown",
   "metadata": {},
   "source": [
    "Extraction Text Summarizer\n",
    "  Samuel Hu\n",
    "\n",
    "Resource: https://www.activestate.com/blog/how-to-do-text-summarization-with-python/\n"
   ]
  },
  {
   "cell_type": "code",
   "execution_count": 209,
   "metadata": {},
   "outputs": [],
   "source": [
    "from bs4 import BeautifulSoup\n",
    "from requests import get"
   ]
  },
  {
   "cell_type": "code",
   "execution_count": 210,
   "metadata": {},
   "outputs": [],
   "source": [
    "def get_only_text(url):\n",
    "    page = get(url)\n",
    "    soup = BeautifulSoup(page.content, \"lxml\")\n",
    "    text = ' '.join(map(lambda p: p.text, soup.find_all('p')))\n",
    "    title = ' '.join(soup.title.stripped_strings)\n",
    "    return title, text"
   ]
  },
  {
   "cell_type": "code",
   "execution_count": 211,
   "metadata": {},
   "outputs": [],
   "source": [
    "texts = get_only_text('https://www.theverge.com/2022/8/19/23313155/samsung-galaxy-s23-ultra-rumor-camera-200mp-sensor')\n"
   ]
  },
  {
   "cell_type": "code",
   "execution_count": 212,
   "metadata": {},
   "outputs": [
    {
     "data": {
      "text/plain": [
       "2126"
      ]
     },
     "execution_count": 212,
     "metadata": {},
     "output_type": "execute_result"
    }
   ],
   "source": [
    "len(texts[1])"
   ]
  },
  {
   "cell_type": "code",
   "execution_count": 213,
   "metadata": {},
   "outputs": [
    {
     "data": {
      "text/plain": [
       "'Filed under: Get ready for cameras with lots and lots of pixels from Samsung, Motorola, and even Apple According to a new report from Korean outlet ETNews spotted by Android Authority, it’s looking very likely that the Samsung Galaxy S23 Ultra will use the 200-megapixel camera sensor that the company launched last year. That is a whole lot of pixels, and Samsung isn’t alone in this newest megapixel arms race — Motorola beat the company to the punch with the Motorola X30 Pro. Even Apple, a 12-megapixel camera devotee, looks like it will finally move to higher resolution 48-megapixel camera sensors with the iPhone 14.  It’s not all about big numbers; moving to higher-pixel-count sensors has real image quality benefits. In this chapter of the megapixel race, it’s all about pixel binning. Samsung already employs this with its 108-megapixel sensor, and taking a super high-res photo isn’t the point — rather, combining individual pixels into four-by-four or two-by-two configurations is.  This new sensor just takes the technology a step further. The 0.64μm pixels on Samsung’s 200-megapixel sensor are relatively small, considering that the pixels on Apple’s newest 12-megapixel sensor measure 1.9μm. But putting 16 of them together makes for pixels that are effectively 2.56μm. All things being equal, bigger pixels will collect more light and make your low-light images better. By default, you get a 12-megapixel final image, so there’s no risk of unknowingly filling up your phone storage with 200-megapixel photos. Great, right? There’s a catch — based on rumors right now, it looks like only the most expensive models in Samsung and Apple’s lineup will get the high-res sensors: the S23 Ultra and the Pro models of the iPhone 14. The rest of us will just have to keep making do with 12 (or, if you’re lucky, 50 megapixels) until high-res sensors trickle on down to the basic flagships. Subscribe to get the best Verge-approved tech deals of the week. Please confirm your subscription to Verge Deals via the verification email we just sent you. Oops. Something went wrong. Please enter a valid email and try again.'"
      ]
     },
     "execution_count": 213,
     "metadata": {},
     "output_type": "execute_result"
    }
   ],
   "source": [
    "texts[1]"
   ]
  },
  {
   "cell_type": "code",
   "execution_count": 214,
   "metadata": {},
   "outputs": [],
   "source": [
    "import spacy\n",
    "from spacy.lang.en.stop_words import STOP_WORDS\n",
    "from string import punctuation\n",
    "from heapq import nlargest"
   ]
  },
  {
   "cell_type": "code",
   "execution_count": 215,
   "metadata": {},
   "outputs": [],
   "source": [
    "def summarize(text, per):\n",
    "    nlp = spacy.load('en_core_web_sm')\n",
    "    doc = nlp(text)\n",
    "    tokens = [token.text for token in doc]\n",
    "    word_frequencies={}\n",
    "    \n",
    "    # Create a dictionary that only extracted the key words from the text, removing the stop words\n",
    "    for word in doc:\n",
    "        if word.text.lower() not in list(STOP_WORDS):\n",
    "            if (word.text.lower() not in punctuation) and (word.text.lower() not in ['\\n']):\n",
    "                if word.text not in word_frequencies.keys():\n",
    "                    word_frequencies[word.text] = 1\n",
    "                else:\n",
    "                    word_frequencies[word.text] += 1\n",
    "\n",
    "    #Finds the word with the max frequency\n",
    "    max_frequency = max(word_frequencies.values())\n",
    "    \n",
    "    #Percentage of the word appearing in the article\n",
    "    for word in word_frequencies.keys():\n",
    "        word_frequencies[word]=word_frequencies[word]/max_frequency\n",
    "\n",
    "    sentence_tokens= [sent for sent in doc.sents]\n",
    "    sentence_scores = {}\n",
    "\n",
    "    for sent in sentence_tokens:\n",
    "        for word in sent:\n",
    "            if word.text.lower() in word_frequencies.keys():\n",
    "                if sent not in sentence_scores.keys():                            \n",
    "                    sentence_scores[sent]=word_frequencies[word.text.lower()]\n",
    "                else:\n",
    "                    sentence_scores[sent]+=word_frequencies[word.text.lower()]\n",
    "\n",
    "    select_length=int(len(sentence_tokens)*per)\n",
    "    summary=nlargest(select_length, sentence_scores,key=sentence_scores.get)\n",
    "    final_summary=[word.text for word in summary]\n",
    "    summary=''.join(final_summary)\n",
    "    return summary"
   ]
  },
  {
   "cell_type": "code",
   "execution_count": 216,
   "metadata": {},
   "outputs": [
    {
     "data": {
      "text/plain": [
       "'The 0.64μm pixels on Samsung’s 200-megapixel sensor are relatively small, considering that the pixels on Apple’s newest 12-megapixel sensor measure 1.9μm.Even Apple, a 12-megapixel camera devotee, looks like it will finally move to higher resolution 48-megapixel camera sensors with the iPhone 14.  Filed under: Get ready for cameras with lots and lots of pixels from Samsung, Motorola, and even Apple According to a new report from Korean outlet ETNews spotted by Android Authority, it’s looking very likely that the Samsung Galaxy S23 Ultra will use the 200-megapixel camera sensor that the company launched last year.Samsung already employs this with its 108-megapixel sensor, and taking a super high-res photo isn’t the point — rather, combining individual pixels into four-by-four or two-by-two configurations is.  '"
      ]
     },
     "execution_count": 216,
     "metadata": {},
     "output_type": "execute_result"
    }
   ],
   "source": [
    "summarize(texts[1], 0.25)"
   ]
  },
  {
   "cell_type": "markdown",
   "metadata": {},
   "source": [
    "nlp = spacy.load(\"en_core_web_sm\")\n",
    "\n",
    "extra_words=list(STOP_WORDS)+list(punctuation)+['\\n']\n",
    "#doc = \"\"\"Your Text Content Here\"\"\"\n",
    "doc = texts[1]\n",
    "docx = nlp(doc)\n",
    "\n",
    "all_words=[word.text for word in docx]\n",
    "Freq_word ={}\n",
    "for w in all_words:\n",
    "      w1 = w.lower()\n",
    "      if w1 not in extra_words and w1.isalpha():\n",
    "        if w1 in Freq_word.keys():\n",
    "              Freq_word[w1]+=1\n",
    "        else:\n",
    "              Freq_word[w1]=1\n",
    "\n",
    "val=sorted(Freq_word.values())\n",
    "max_freq=val[-3:]\n",
    "print(\"Topic of document given :-\")\n",
    "\n",
    "for word,freq in Freq_word.items():\n",
    "      if freq in max_freq:\n",
    "          print(word ,end=\" \")\n",
    "      else:\n",
    "          continue\n",
    "\n",
    "for word in Freq_word.keys():\n",
    "       Freq_word[word] = (Freq_word[word]/max_freq[-1])\n",
    "\n",
    "sent_strength={}\n",
    "for sent in docx.sents:\n",
    "      for word in sent :\n",
    "            if word.text.lower() in Freq_word.keys():\n",
    "                if sent in sent_strength.keys():\n",
    "                     sent_strength[sent]+=Freq_word[word.text.lower()]\n",
    "                else:\n",
    "                     sent_strength[sent]=Freq_word[word.text.lower()]\n",
    "            else: \n",
    "                continue\n",
    "\n",
    "top_sentences=(sorted(sent_strength.values())[::-1])\n",
    "top30percent_sentence=int(0.3*len(top_sentences))\n",
    "top_sent=top_sentences[:top30percent_sentence]\n",
    "\n",
    "summary=[]\n",
    "for sent,strength in sent_strength.items():\n",
    "       if strength in top_sent:\n",
    "          summary.append(sent)\n",
    "       else:\n",
    "          continue\n",
    "\n",
    "for i in summary:\n",
    "    print(i,end=\"\")\n"
   ]
  }
 ],
 "metadata": {
  "kernelspec": {
   "display_name": "Python 3.10.5 64-bit",
   "language": "python",
   "name": "python3"
  },
  "language_info": {
   "codemirror_mode": {
    "name": "ipython",
    "version": 3
   },
   "file_extension": ".py",
   "mimetype": "text/x-python",
   "name": "python",
   "nbconvert_exporter": "python",
   "pygments_lexer": "ipython3",
   "version": "3.10.5"
  },
  "orig_nbformat": 4,
  "vscode": {
   "interpreter": {
    "hash": "98590ff4fe04c8543246b2a01debd3de3c5ca9b666f43f1fa87d5110c692004c"
   }
  }
 },
 "nbformat": 4,
 "nbformat_minor": 2
}
